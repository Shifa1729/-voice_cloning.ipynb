{
  "cells": [
    {
      "cell_type": "markdown",
      "metadata": {
        "id": "view-in-github",
        "colab_type": "text"
      },
      "source": [
        "<a href=\"https://colab.research.google.com/github/Shifa1729/-voice_cloning.ipynb/blob/README.md/AI_ASSESMENT.ipynb\" target=\"_parent\"><img src=\"https://colab.research.google.com/assets/colab-badge.svg\" alt=\"Open In Colab\"/></a>"
      ]
    },
    {
      "cell_type": "code",
      "execution_count": null,
      "metadata": {
        "id": "bCUcmFSH_kOh"
      },
      "outputs": [],
      "source": []
    },
    {
      "cell_type": "markdown",
      "metadata": {
        "id": "dQC-29l0_qdl"
      },
      "source": [
        "PIPELINE:\n",
        "1. Enter youtube url.\n",
        "2. whisper transcript the audio- single JSON file you can edit.\n",
        "3. Audio segments are cancatenated and then split into sentence using nltk.\n",
        "4. sentence are combine into < 30 second clip, one row per clip (audio,test source)\n",
        "5. The resulting dataset.Dataset is pushed to Hugging face under the org/repo of your choice."
      ]
    },
    {
      "cell_type": "code",
      "execution_count": null,
      "metadata": {
        "colab": {
          "base_uri": "https://localhost:8080/"
        },
        "id": "_akiFHRWla6d",
        "outputId": "657295b6-4656-4013-cb83-da96737f2a03"
      },
      "outputs": [
        {
          "name": "stdout",
          "output_type": "stream",
          "text": [
            "Collecting whisper\n",
            "  Downloading whisper-1.1.10.tar.gz (42 kB)\n",
            "\u001b[?25l     \u001b[90m━━━━━━━━━━━━━━━━━━━━━━━━━━━━━━━━━━━━━━━━\u001b[0m \u001b[32m0.0/42.8 kB\u001b[0m \u001b[31m?\u001b[0m eta \u001b[36m-:--:--\u001b[0m\r\u001b[2K     \u001b[90m━━━━━━━━━━━━━━━━━━━━━━━━━━━━━━━━━━━━━━━━\u001b[0m \u001b[32m42.8/42.8 kB\u001b[0m \u001b[31m2.3 MB/s\u001b[0m eta \u001b[36m0:00:00\u001b[0m\n",
            "\u001b[?25h  Preparing metadata (setup.py) ... \u001b[?25l\u001b[?25hdone\n",
            "Requirement already satisfied: six in /usr/local/lib/python3.12/dist-packages (from whisper) (1.17.0)\n",
            "Building wheels for collected packages: whisper\n",
            "  Building wheel for whisper (setup.py) ... \u001b[?25l\u001b[?25hdone\n",
            "  Created wheel for whisper: filename=whisper-1.1.10-py3-none-any.whl size=41120 sha256=7043ebde88c0562525a9a85cd7389b141bc761c4b075f2807d9626879894a01e\n",
            "  Stored in directory: /root/.cache/pip/wheels/34/b8/4e/9c4c3351d670e06746a340fb4b7d854c76517eec225e5b32b1\n",
            "Successfully built whisper\n",
            "Installing collected packages: whisper\n",
            "Successfully installed whisper-1.1.10\n"
          ]
        }
      ],
      "source": [
        "!pip install whisper"
      ]
    },
    {
      "cell_type": "code",
      "execution_count": 6,
      "metadata": {
        "colab": {
          "base_uri": "https://localhost:8080/"
        },
        "id": "EUaR9AL9B2L1",
        "outputId": "65f65138-ee09-40fa-a95f-5908882f04f4"
      },
      "outputs": [
        {
          "output_type": "stream",
          "name": "stdout",
          "text": [
            "\u001b[33mWARNING: Skipping whisper as it is not installed.\u001b[0m\u001b[33m\n",
            "\u001b[0m\u001b[33mWARNING: Skipping whisper-cpp-python as it is not installed.\u001b[0m\u001b[33m\n",
            "\u001b[2K     \u001b[90m━━━━━━━━━━━━━━━━━━━━━━━━━━━━━━━━━━━━━━━━\u001b[0m \u001b[32m42.8/42.8 kB\u001b[0m \u001b[31m2.2 MB/s\u001b[0m eta \u001b[36m0:00:00\u001b[0m\n",
            "\u001b[?25h  Preparing metadata (setup.py) ... \u001b[?25l\u001b[?25hdone\n",
            "\u001b[2K     \u001b[90m━━━━━━━━━━━━━━━━━━━━━━━━━━━━━━━━━━━━━━━\u001b[0m \u001b[32m176.0/176.0 kB\u001b[0m \u001b[31m5.3 MB/s\u001b[0m eta \u001b[36m0:00:00\u001b[0m\n",
            "\u001b[2K   \u001b[90m━━━━━━━━━━━━━━━━━━━━━━━━━━━━━━━━━━━━━━━━\u001b[0m \u001b[32m43.8/43.8 kB\u001b[0m \u001b[31m3.8 MB/s\u001b[0m eta \u001b[36m0:00:00\u001b[0m\n",
            "\u001b[2K   \u001b[90m━━━━━━━━━━━━━━━━━━━━━━━━━━━━━━━━━━━━━━━━\u001b[0m \u001b[32m1.9/1.9 MB\u001b[0m \u001b[31m40.9 MB/s\u001b[0m eta \u001b[36m0:00:00\u001b[0m\n",
            "\u001b[2K   \u001b[90m━━━━━━━━━━━━━━━━━━━━━━━━━━━━━━━━━━━━━━━━\u001b[0m \u001b[32m3.3/3.3 MB\u001b[0m \u001b[31m89.9 MB/s\u001b[0m eta \u001b[36m0:00:00\u001b[0m\n",
            "\u001b[2K   \u001b[90m━━━━━━━━━━━━━━━━━━━━━━━━━━━━━━━━━━━━━━━━\u001b[0m \u001b[32m247.4/247.4 kB\u001b[0m \u001b[31m19.2 MB/s\u001b[0m eta \u001b[36m0:00:00\u001b[0m\n",
            "\u001b[2K   \u001b[90m━━━━━━━━━━━━━━━━━━━━━━━━━━━━━━━━━━━━━━━━\u001b[0m \u001b[32m1.6/1.6 MB\u001b[0m \u001b[31m70.5 MB/s\u001b[0m eta \u001b[36m0:00:00\u001b[0m\n",
            "\u001b[2K   \u001b[90m━━━━━━━━━━━━━━━━━━━━━━━━━━━━━━━━━━━━━━━━\u001b[0m \u001b[32m43.3/43.3 kB\u001b[0m \u001b[31m3.3 MB/s\u001b[0m eta \u001b[36m0:00:00\u001b[0m\n",
            "\u001b[?25h  Building wheel for whisper (setup.py) ... \u001b[?25l\u001b[?25hdone\n",
            "\u001b[31mERROR: pip's dependency resolver does not currently take into account all the packages that are installed. This behaviour is the source of the following dependency conflicts.\n",
            "google-adk 1.12.0 requires sqlalchemy<3.0.0,>=2.0, but you have sqlalchemy 1.4.54 which is incompatible.\n",
            "ipython-sql 0.5.0 requires sqlalchemy>=2.0, but you have sqlalchemy 1.4.54 which is incompatible.\u001b[0m\u001b[31m\n",
            "\u001b[0m"
          ]
        },
        {
          "output_type": "stream",
          "name": "stderr",
          "text": [
            "[nltk_data] Downloading package punkt to /root/nltk_data...\n",
            "[nltk_data]   Unzipping tokenizers/punkt.zip.\n"
          ]
        },
        {
          "output_type": "execute_result",
          "data": {
            "text/plain": [
              "True"
            ]
          },
          "metadata": {},
          "execution_count": 6
        }
      ],
      "source": [
        "# Installation and Imports\n",
        "# Uninstall potentially conflicting whisper packages\n",
        "!pip uninstall -y whisper whisper-cpp-python\n",
        "\n",
        "# Install required packages including OpenAI whisper\n",
        "!pip install -q ffmpeg-python sound dataset youtube-dl whisper nltk yt-dlp\n",
        "\n",
        "# IMPORTS\n",
        "import os, json, subprocess, uuid, torch, whisper, glob\n",
        "from pathlib import Path\n",
        "import nltk\n",
        "nltk.download('punkt')"
      ]
    },
    {
      "cell_type": "code",
      "execution_count": null,
      "metadata": {
        "id": "9tR2hN_lm03f"
      },
      "outputs": [],
      "source": [
        "# WHISPER MODEL AND HARDWARE\n",
        "# Ensure the correct whisper is imported and loaded\n",
        "import whisper\n",
        "model = whisper.load_model(\"base\")\n",
        "device = \"cuda\" if torch.cuda.is_available() else \"cpu\"\n",
        "print(f\"Using device: {device}\")"
      ]
    },
    {
      "cell_type": "markdown",
      "metadata": {
        "id": "7_Hf-_KDZuth"
      },
      "source": [
        "DOWNLOAD AUDIO FROM YOUTUBE"
      ]
    },
    {
      "cell_type": "code",
      "execution_count": null,
      "metadata": {
        "colab": {
          "background_save": true,
          "base_uri": "https://localhost:8080/",
          "height": 38
        },
        "id": "tqChaQRQZ51K",
        "outputId": "2f2c9dac-b174-47bd-df8e-f02bfdc3b6d6"
      },
      "outputs": [
        {
          "data": {
            "text/html": [
              "\n",
              "     <input type=\"file\" id=\"files-465205a4-35b7-40ac-82ad-528058733d9c\" name=\"files[]\" multiple disabled\n",
              "        style=\"border:none\" />\n",
              "     <output id=\"result-465205a4-35b7-40ac-82ad-528058733d9c\">\n",
              "      Upload widget is only available when the cell has been executed in the\n",
              "      current browser session. Please rerun this cell to enable.\n",
              "      </output>\n",
              "      <script>// Copyright 2017 Google LLC\n",
              "//\n",
              "// Licensed under the Apache License, Version 2.0 (the \"License\");\n",
              "// you may not use this file except in compliance with the License.\n",
              "// You may obtain a copy of the License at\n",
              "//\n",
              "//      http://www.apache.org/licenses/LICENSE-2.0\n",
              "//\n",
              "// Unless required by applicable law or agreed to in writing, software\n",
              "// distributed under the License is distributed on an \"AS IS\" BASIS,\n",
              "// WITHOUT WARRANTIES OR CONDITIONS OF ANY KIND, either express or implied.\n",
              "// See the License for the specific language governing permissions and\n",
              "// limitations under the License.\n",
              "\n",
              "/**\n",
              " * @fileoverview Helpers for google.colab Python module.\n",
              " */\n",
              "(function(scope) {\n",
              "function span(text, styleAttributes = {}) {\n",
              "  const element = document.createElement('span');\n",
              "  element.textContent = text;\n",
              "  for (const key of Object.keys(styleAttributes)) {\n",
              "    element.style[key] = styleAttributes[key];\n",
              "  }\n",
              "  return element;\n",
              "}\n",
              "\n",
              "// Max number of bytes which will be uploaded at a time.\n",
              "const MAX_PAYLOAD_SIZE = 100 * 1024;\n",
              "\n",
              "function _uploadFiles(inputId, outputId) {\n",
              "  const steps = uploadFilesStep(inputId, outputId);\n",
              "  const outputElement = document.getElementById(outputId);\n",
              "  // Cache steps on the outputElement to make it available for the next call\n",
              "  // to uploadFilesContinue from Python.\n",
              "  outputElement.steps = steps;\n",
              "\n",
              "  return _uploadFilesContinue(outputId);\n",
              "}\n",
              "\n",
              "// This is roughly an async generator (not supported in the browser yet),\n",
              "// where there are multiple asynchronous steps and the Python side is going\n",
              "// to poll for completion of each step.\n",
              "// This uses a Promise to block the python side on completion of each step,\n",
              "// then passes the result of the previous step as the input to the next step.\n",
              "function _uploadFilesContinue(outputId) {\n",
              "  const outputElement = document.getElementById(outputId);\n",
              "  const steps = outputElement.steps;\n",
              "\n",
              "  const next = steps.next(outputElement.lastPromiseValue);\n",
              "  return Promise.resolve(next.value.promise).then((value) => {\n",
              "    // Cache the last promise value to make it available to the next\n",
              "    // step of the generator.\n",
              "    outputElement.lastPromiseValue = value;\n",
              "    return next.value.response;\n",
              "  });\n",
              "}\n",
              "\n",
              "/**\n",
              " * Generator function which is called between each async step of the upload\n",
              " * process.\n",
              " * @param {string} inputId Element ID of the input file picker element.\n",
              " * @param {string} outputId Element ID of the output display.\n",
              " * @return {!Iterable<!Object>} Iterable of next steps.\n",
              " */\n",
              "function* uploadFilesStep(inputId, outputId) {\n",
              "  const inputElement = document.getElementById(inputId);\n",
              "  inputElement.disabled = false;\n",
              "\n",
              "  const outputElement = document.getElementById(outputId);\n",
              "  outputElement.innerHTML = '';\n",
              "\n",
              "  const pickedPromise = new Promise((resolve) => {\n",
              "    inputElement.addEventListener('change', (e) => {\n",
              "      resolve(e.target.files);\n",
              "    });\n",
              "  });\n",
              "\n",
              "  const cancel = document.createElement('button');\n",
              "  inputElement.parentElement.appendChild(cancel);\n",
              "  cancel.textContent = 'Cancel upload';\n",
              "  const cancelPromise = new Promise((resolve) => {\n",
              "    cancel.onclick = () => {\n",
              "      resolve(null);\n",
              "    };\n",
              "  });\n",
              "\n",
              "  // Wait for the user to pick the files.\n",
              "  const files = yield {\n",
              "    promise: Promise.race([pickedPromise, cancelPromise]),\n",
              "    response: {\n",
              "      action: 'starting',\n",
              "    }\n",
              "  };\n",
              "\n",
              "  cancel.remove();\n",
              "\n",
              "  // Disable the input element since further picks are not allowed.\n",
              "  inputElement.disabled = true;\n",
              "\n",
              "  if (!files) {\n",
              "    return {\n",
              "      response: {\n",
              "        action: 'complete',\n",
              "      }\n",
              "    };\n",
              "  }\n",
              "\n",
              "  for (const file of files) {\n",
              "    const li = document.createElement('li');\n",
              "    li.append(span(file.name, {fontWeight: 'bold'}));\n",
              "    li.append(span(\n",
              "        `(${file.type || 'n/a'}) - ${file.size} bytes, ` +\n",
              "        `last modified: ${\n",
              "            file.lastModifiedDate ? file.lastModifiedDate.toLocaleDateString() :\n",
              "                                    'n/a'} - `));\n",
              "    const percent = span('0% done');\n",
              "    li.appendChild(percent);\n",
              "\n",
              "    outputElement.appendChild(li);\n",
              "\n",
              "    const fileDataPromise = new Promise((resolve) => {\n",
              "      const reader = new FileReader();\n",
              "      reader.onload = (e) => {\n",
              "        resolve(e.target.result);\n",
              "      };\n",
              "      reader.readAsArrayBuffer(file);\n",
              "    });\n",
              "    // Wait for the data to be ready.\n",
              "    let fileData = yield {\n",
              "      promise: fileDataPromise,\n",
              "      response: {\n",
              "        action: 'continue',\n",
              "      }\n",
              "    };\n",
              "\n",
              "    // Use a chunked sending to avoid message size limits. See b/62115660.\n",
              "    let position = 0;\n",
              "    do {\n",
              "      const length = Math.min(fileData.byteLength - position, MAX_PAYLOAD_SIZE);\n",
              "      const chunk = new Uint8Array(fileData, position, length);\n",
              "      position += length;\n",
              "\n",
              "      const base64 = btoa(String.fromCharCode.apply(null, chunk));\n",
              "      yield {\n",
              "        response: {\n",
              "          action: 'append',\n",
              "          file: file.name,\n",
              "          data: base64,\n",
              "        },\n",
              "      };\n",
              "\n",
              "      let percentDone = fileData.byteLength === 0 ?\n",
              "          100 :\n",
              "          Math.round((position / fileData.byteLength) * 100);\n",
              "      percent.textContent = `${percentDone}% done`;\n",
              "\n",
              "    } while (position < fileData.byteLength);\n",
              "  }\n",
              "\n",
              "  // All done.\n",
              "  yield {\n",
              "    response: {\n",
              "      action: 'complete',\n",
              "    }\n",
              "  };\n",
              "}\n",
              "\n",
              "scope.google = scope.google || {};\n",
              "scope.google.colab = scope.google.colab || {};\n",
              "scope.google.colab._files = {\n",
              "  _uploadFiles,\n",
              "  _uploadFilesContinue,\n",
              "};\n",
              "})(self);\n",
              "</script> "
            ],
            "text/plain": [
              "<IPython.core.display.HTML object>"
            ]
          },
          "metadata": {},
          "output_type": "display_data"
        }
      ],
      "source": [
        "  from google.colab import files\n",
        "  uploaded = files.upload()\n",
        "  #dialog lets you pick multiple files\n",
        "  for name, _ in uploaded.items():\n",
        "    dest = AUDIO_DIK/name\n",
        "    os.rename(name, dest)\n",
        "    print(\"save\",dest)\n",
        "  print (\"all uploads saved to\",AUDIO_DIR)"
      ]
    },
    {
      "cell_type": "code",
      "source": [
        "from os.path import exists\n",
        "from sys import stdout\n",
        "from urllib.error import URLError\n",
        "import subprocess # Added import for subprocess\n",
        "from pathlib import Path # Assuming Path is used and needs importing\n",
        "\n",
        "#ADD / paste any number of Youtube links here\n",
        "YOUTUBE_URLS = [\"https://www.youtube.com/watch?v=dQw4w9WgXcQ\",\n",
        "                 \"https://www.youtube.com/watch?v=mWZ6b_I-Djg\",\n",
        "                 \"https://www.youtube.com/watch?v=B0p5SdkBydU\",\n",
        "                 \"https://www.youtube.com/watch?v=xJbeStHI2HU\"\n",
        "                 ]\n",
        "# Assuming AUDIO_DIR is defined elsewhere\n",
        "# for url in Youtube_URLS # Original line with syntax error\n",
        "\n",
        "for url in YOUTUBE_URLS: # Corrected for loop\n",
        "    expected_filename = None\n",
        "    # Attempt to get the title using yt.dlp's --print option\n",
        "    try:\n",
        "        process = subprocess.run(\n",
        "            [\"yt-dlp\", \"--print\", \"%(title)s\", url],\n",
        "            capture_output=True, # Corrected argument name\n",
        "            text=True,\n",
        "            check=True,\n",
        "        )\n",
        "        title = process.stdout.strip() # Corrected attribute access\n",
        "        # Assuming AUDIO_DIR is a Path object\n",
        "        # Construct expected filename\n",
        "        expected_filename = Path(str(AUDIO_DIR) + \"/\" + title + \".m4a\")\n",
        "\n",
        "    except subprocess.CalledProcessError as e: # Corrected exception handling syntax\n",
        "        print(f\" warning: could not get title for {url}: {e}\")\n",
        "        # fallback or skip if filename cannot be determined\n",
        "        print(f\" downloading {url} (without checking for existing file)\")\n",
        "        # Continue with download even if title could not be retrieved\n",
        "        subprocess.run(\n",
        "            [\n",
        "                \"yt-dlp\",\n",
        "                \"-q\", \"-x\", \"--extract-audio\", \"--audio-format\", \"m4a\",\n",
        "                \"-o\", str(AUDIO_DIR / \"%(title)s.%(ext)s\"),\n",
        "                url,\n",
        "            ],\n",
        "            check=True\n",
        "        )\n",
        "        continue # Move to next url\n",
        "\n",
        "    # If title was successfully retrieved, check if file exists before downloading\n",
        "    if expected_filename and expected_filename.exists():\n",
        "        print(f\"File for {url} already exists: {expected_filename}\")\n",
        "        continue # Move to next url\n",
        "\n",
        "    print(f\"Downloading {url}\")\n",
        "    # Download the audio\n",
        "    subprocess.run(\n",
        "        [\n",
        "            \"yt-dlp\",\n",
        "            \"-q\", \"-x\", \"--extract-audio\", \"--audio-format\", \"m4a\",\n",
        "            \"-o\", str(AUDIO_DIR / \"%(title)s.%(ext)s\"),\n",
        "            url,\n",
        "        ],\n",
        "        check=True\n",
        "    )\n",
        "print(\"All Youtube audio save to\", AUDIO_DIR)"
      ],
      "metadata": {
        "colab": {
          "base_uri": "https://localhost:8080/"
        },
        "id": "SC34g5m_EuYZ",
        "outputId": "a2c0fa38-f085-4876-dbaa-8e39e9e124c2"
      },
      "execution_count": 22,
      "outputs": [
        {
          "output_type": "stream",
          "name": "stdout",
          "text": [
            "Downloading https://www.youtube.com/watch?v=dQw4w9WgXcQ\n",
            "Downloading https://www.youtube.com/watch?v=mWZ6b_I-Djg\n",
            "Downloading https://www.youtube.com/watch?v=B0p5SdkBydU\n",
            "Downloading https://www.youtube.com/watch?v=xJbeStHI2HU\n",
            "All Youtube audio save to audio\n"
          ]
        }
      ]
    },
    {
      "cell_type": "markdown",
      "source": [
        "UPLOAD AUDIO FILE"
      ],
      "metadata": {
        "id": "AxcW8Nkbu_lq"
      }
    },
    {
      "cell_type": "code",
      "source": [
        "import subprocess, json\n",
        "from itertools import chain # Corrected import name\n",
        "from pathlib import Path\n",
        "\n",
        "def get_duration_sec(path:Path)->float:\n",
        "  \"\"\"Return length in seconds using ffprobe.\"\"\"\n",
        "  pr = subprocess.run(\n",
        "      [\"ffprobe\", \"-v\", \"error\", \"-show_entries\", \"format=duration\", \"-of\", \"json\", str(path)],\n",
        "      capture_output=True,\n",
        "      check=True,\n",
        "  )\n",
        "  try:\n",
        "      return float(json.loads(pr.stdout)[\"format\"][\"duration\"]) # Corrected json.loads call\n",
        "  except (json.JSONDecodeError, KeyError, ValueError) as e: # Corrected exception handling syntax and names\n",
        "      print(f\"error getting duration of {path}:{e}\")\n",
        "      print(f\"ffprobe stdout: {pr.stdout}\")\n",
        "      print(f\"ffprobe stderr: {pr.stderr}\")\n",
        "      return 0.0\n",
        "\n",
        "#collect audio file\n",
        "audio_paths = sorted(chain(\n",
        "    AUDIO_DIR.glob(\"*.m4a\"),\n",
        "    AUDIO_DIR.glob(\"*.mp3\"),\n",
        "    AUDIO_DIR.glob(\"*.wav\"),\n",
        "    AUDIO_DIR.glob(\"*.webm\"), # Corrected file extension\n",
        "))\n",
        "\n",
        "print (f\"Found {len(audio_paths)} audio files\") # Corrected f-string syntax\n",
        "total_sec = 0\n",
        "for p in audio_paths: # Corrected variable name\n",
        "    dur_sec = get_duration_sec(p) # Corrected function name\n",
        "    total_sec += dur_sec\n",
        "    print(f\"{p.name:<40} {dur_sec/60:6.2f} min\")\n",
        "print(f\"total duration: {total_sec/60:6.2f} min\"\n",
        "    f\"({total_sec/3600:.2f}h)\") # Corrected hours calculation"
      ],
      "metadata": {
        "id": "QRuyBRmDguxU"
      },
      "execution_count": null,
      "outputs": []
    }
  ],
  "metadata": {
    "accelerator": "GPU",
    "colab": {
      "gpuType": "T4",
      "provenance": [],
      "authorship_tag": "ABX9TyOms4ypjfv2KwwdIFrPyUjz",
      "include_colab_link": true
    },
    "kernelspec": {
      "display_name": "Python 3",
      "name": "python3"
    },
    "language_info": {
      "name": "python"
    }
  },
  "nbformat": 4,
  "nbformat_minor": 0
}